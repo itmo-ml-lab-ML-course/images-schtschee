{
  "nbformat": 4,
  "nbformat_minor": 0,
  "metadata": {
    "colab": {
      "provenance": []
    },
    "kernelspec": {
      "name": "python3",
      "display_name": "Python 3"
    },
    "language_info": {
      "name": "python"
    }
  },
  "cells": [
    {
      "cell_type": "markdown",
      "source": [
        "# Модель классификации картинок\n",
        "\n",
        "Хотелось научить модель отличать Гослинга от Рэйнольдса, но она не получилась, поэтому решила вернуться к проверенной классической задаче cats vs dogs, в нашем случае мемы с котиками против мемов с волками. Простая бинарная классификация."
      ],
      "metadata": {
        "id": "fVREDz3z_og8"
      }
    },
    {
      "cell_type": "markdown",
      "source": [
        "Для начала распакуем картинки из архивов и разделим их на train, val, test."
      ],
      "metadata": {
        "id": "c_GtD4inctgq"
      }
    },
    {
      "cell_type": "code",
      "execution_count": 1,
      "metadata": {
        "id": "_TcF3vXBI5GT"
      },
      "outputs": [],
      "source": [
        "!pip install -q keras"
      ]
    },
    {
      "cell_type": "code",
      "source": [
        "import os\n",
        "import pandas as pd\n",
        "import requests\n",
        "from numpy import char\n",
        "import time\n",
        "from PIL import Image\n",
        "from io import BytesIO\n",
        "import os, random, shutil\n",
        "from PIL import UnidentifiedImageError\n",
        "\n",
        "def download_and_convert_image(url, filename):\n",
        "  try:\n",
        "    response = requests.get(url)\n",
        "    if response.status_code == 200:\n",
        "      image = Image.open(BytesIO(response.content))\n",
        "      image.convert('RGB').save(filename + '.png', format='PNG')\n",
        "    else:\n",
        "      print(f\"Error: Unable to download image from the {url}\")\n",
        "  except UnidentifiedImageError:\n",
        "    pass\n",
        "\n",
        "def download_df(df, directory, filepref = ''):\n",
        "  if not os.path.exists(directory):\n",
        "    os.makedirs(directory)\n",
        "  for i in range(len(df.axes[0])):\n",
        "    download_and_convert_image(df.loc[i][0], directory + '/' + filepref + str(i))\n"
      ],
      "metadata": {
        "id": "cV31CIrGoe_k"
      },
      "execution_count": 2,
      "outputs": []
    },
    {
      "cell_type": "code",
      "source": [
        "import random\n",
        "import shutil\n",
        "import numpy as np\n",
        "\n",
        "def train_val_test_split(directory, max_num_files = 1000, train_per=0.8, test_per=0.1):\n",
        "  folder = directory.split(\"/\")[-2]\n",
        "  if not os.path.exists('/content/data/train/'+folder):\n",
        "    os.makedirs('/content/data/train/'+folder)\n",
        "  if not os.path.exists('/content/data/val/'+folder):\n",
        "    os.makedirs('/content/data/val/'+folder)\n",
        "  if not os.path.exists('/content/data/test/'+folder):\n",
        "    os.makedirs('/content/data/test/'+folder)\n",
        "  num_files = min(len(os.listdir(directory)), max_num_files)\n",
        "  print(num_files)\n",
        "  n_train = round(num_files * train_per)\n",
        "  n_test = round(num_files * test_per)\n",
        "  random.seed(0)\n",
        "  file_list = os.listdir(directory)\n",
        "  for i in range(num_files):\n",
        "    file = file_list.pop(random.randint(0, len(file_list)-1))\n",
        "    if i < n_train:\n",
        "      shutil.copy(directory + file, '/content/data/train/' + folder + '/' + file)\n",
        "    elif i < n_train + n_test:\n",
        "      shutil.copy(directory + file, '/content/data/test/' + folder + '/' + file)\n",
        "    else:\n",
        "      shutil.copy(directory + file, '/content/data/val/' + folder + '/' + file)\n",
        "\n"
      ],
      "metadata": {
        "id": "1lVHMteVs0mo"
      },
      "execution_count": 3,
      "outputs": []
    },
    {
      "cell_type": "code",
      "source": [
        "df_cat = pd.read_csv(\"data_cat.csv\")\n",
        "df_cat = df_cat.drop('Unnamed: 0', axis=1)\n",
        "download_df(df_cat, '/content/cat/', 'cat')"
      ],
      "metadata": {
        "id": "u-Llce0oSZ0m"
      },
      "execution_count": 4,
      "outputs": []
    },
    {
      "cell_type": "code",
      "source": [
        "train_val_test_split('/content/cat/', 600)"
      ],
      "metadata": {
        "colab": {
          "base_uri": "https://localhost:8080/"
        },
        "id": "AHxhjfgRi-Jx",
        "outputId": "69b6aedc-b73e-43dc-fa29-282d3ecbd922"
      },
      "execution_count": 70,
      "outputs": [
        {
          "output_type": "stream",
          "name": "stdout",
          "text": [
            "600\n"
          ]
        }
      ]
    },
    {
      "cell_type": "code",
      "source": [
        "df_wolf = pd.read_csv(\"data_wolf.csv\")\n",
        "df_wolf = df_wolf.drop('Unnamed: 0', axis=1)\n",
        "download_df(df_wolf, '/content/wolf/', 'wolf')"
      ],
      "metadata": {
        "id": "brqlYW2VcFFy",
        "colab": {
          "base_uri": "https://localhost:8080/"
        },
        "outputId": "a758fb15-fd53-4a4b-b222-7e2e7f38face"
      },
      "execution_count": 55,
      "outputs": [
        {
          "output_type": "stream",
          "name": "stderr",
          "text": [
            "/usr/local/lib/python3.10/dist-packages/PIL/Image.py:996: UserWarning: Palette images with Transparency expressed in bytes should be converted to RGBA images\n",
            "  warnings.warn(\n"
          ]
        }
      ]
    },
    {
      "cell_type": "code",
      "source": [
        "train_val_test_split('/content/wolf/', 600)"
      ],
      "metadata": {
        "colab": {
          "base_uri": "https://localhost:8080/"
        },
        "id": "gPk3PCMZjNOt",
        "outputId": "ae04adb5-a213-411f-99f0-30b1cb350890"
      },
      "execution_count": 71,
      "outputs": [
        {
          "output_type": "stream",
          "name": "stdout",
          "text": [
            "600\n"
          ]
        }
      ]
    },
    {
      "cell_type": "markdown",
      "source": [
        "Теперь у нас есть папки с картинками для каждого множества.\n",
        "Добавитм аугментацию. Сделаем это автоматизированно с помощью ImageDataGenerator."
      ],
      "metadata": {
        "id": "uk9k6780c7GX"
      }
    },
    {
      "cell_type": "code",
      "source": [
        "from keras.preprocessing.image import ImageDataGenerator\n",
        "\n",
        "IMGWIDTH = 300\n",
        "IMGHEIGHT = 300\n",
        "BATCHSZ = 32\n",
        "\n",
        "train_generator = ImageDataGenerator(\n",
        "    rotation_range=30,\n",
        "    shear_range=0.2,\n",
        "    zoom_range=0.2,\n",
        "    horizontal_flip=True,\n",
        "    width_shift_range=0.2,\n",
        "    height_shift_range=0.2,\n",
        "    fill_mode='nearest')\n",
        "\n",
        "train_data = train_generator.flow_from_directory(\n",
        "    '/content/data/train',\n",
        "    target_size=(IMGWIDTH, IMGHEIGHT),\n",
        "    batch_size=BATCHSZ,\n",
        "    class_mode='binary',\n",
        "    seed=0)\n",
        "\n",
        "test_generator = ImageDataGenerator()\n",
        "\n",
        "val_data = test_generator.flow_from_directory(\n",
        "    '/content/data/val',\n",
        "    target_size=(IMGWIDTH, IMGHEIGHT),\n",
        "    batch_size=BATCHSZ,\n",
        "    class_mode='binary',\n",
        "    seed=0)\n",
        "\n",
        "test_data = test_generator.flow_from_directory(\n",
        "    '/content/data/test',\n",
        "    target_size=(IMGWIDTH, IMGHEIGHT),\n",
        "    batch_size=30,\n",
        "    class_mode='binary',\n",
        "    seed=0)"
      ],
      "metadata": {
        "id": "jvz2kzjoaPX6",
        "colab": {
          "base_uri": "https://localhost:8080/"
        },
        "outputId": "41002d8c-6656-4523-c2dd-d1b7a89b1c19"
      },
      "execution_count": 76,
      "outputs": [
        {
          "output_type": "stream",
          "name": "stdout",
          "text": [
            "Found 960 images belonging to 2 classes.\n",
            "Found 120 images belonging to 2 classes.\n",
            "Found 120 images belonging to 2 classes.\n"
          ]
        }
      ]
    },
    {
      "cell_type": "markdown",
      "source": [
        "Отлично, данные, помеченные на 2 класса есть.\n",
        "Теперь создадим класс для модели. За основу возьмем предобученную keras Sequential."
      ],
      "metadata": {
        "id": "0cMOLfmejGMl"
      }
    },
    {
      "cell_type": "code",
      "source": [
        "from keras.models import Sequential\n",
        "from keras.layers import Conv2D, MaxPooling2D, Rescaling\n",
        "from keras.layers import Activation, Dropout, Flatten, Dense\n",
        "from keras.applications import MobileNetV2\n",
        "from keras import Input, Model\n",
        "from keras.optimizers import SGD\n",
        "\n",
        "class MModel():\n",
        "  def __init__(self):\n",
        "    base_model = MobileNetV2(\n",
        "      weights='imagenet',\n",
        "      input_shape=(IMGWIDTH, IMGHEIGHT, 3),\n",
        "      include_top=False,\n",
        "      classes=2)\n",
        "    base_model.trainable = False\n",
        "    inputs = Input(shape=(IMGWIDTH, IMGHEIGHT, 3))\n",
        "    scale_layer = Rescaling(scale=1 / 127.5, offset=-1)\n",
        "    x = base_model(scale_layer(inputs), training=False)\n",
        "    x = Conv2D(32, (3, 3))(x)\n",
        "    x = Activation('relu')(x)\n",
        "    x = MaxPooling2D(pool_size=(2, 2))(x)\n",
        "\n",
        "    x = Conv2D(64, (3, 3))(x)\n",
        "    x = Activation('relu')(x)\n",
        "    x = MaxPooling2D(pool_size=(2, 2))(x)\n",
        "\n",
        "    x = Flatten()(x)\n",
        "    x = Dense(64)(x)\n",
        "    x = Activation('relu')(x)\n",
        "    x = Dropout(0.3)(x)\n",
        "    x = Dense(1)(x)\n",
        "    outputs = x = Activation('sigmoid')(x)\n",
        "    self.model = Model(inputs, outputs)\n",
        "    self.model.compile(\n",
        "        loss = 'binary_crossentropy',\n",
        "        metrics = ['accuracy'],\n",
        "        optimizer = 'rmsprop')\n",
        "\n",
        "  def fit(self, train_data, val_data, epochs, callbacks=None):\n",
        "    return self.model.fit(train_data, validation_data=val_data, epochs=epochs, callbacks=callbacks)\n",
        "\n",
        "  def summary(self):\n",
        "    print(self.model.summary())\n",
        "\n",
        "  def evaluate(self, data):\n",
        "    return self.model.evaluate(data)\n",
        "\n",
        "  def predict(self, data):\n",
        "    return self.model.predict(data)\n",
        "\n",
        "  def save(self, filename):\n",
        "    self.model.save(filename)"
      ],
      "metadata": {
        "id": "3ShiqSm8g6Ys"
      },
      "execution_count": 80,
      "outputs": []
    },
    {
      "cell_type": "code",
      "source": [
        "random.seed(0)\n",
        "np.random.seed(0)"
      ],
      "metadata": {
        "id": "dBSlY8_lYEbC"
      },
      "execution_count": 78,
      "outputs": []
    },
    {
      "cell_type": "markdown",
      "source": [
        "Создадим экземпляр модели и выведем ее слои."
      ],
      "metadata": {
        "id": "7DRVFwcvgcRY"
      }
    },
    {
      "cell_type": "code",
      "source": [
        "model = MModel()\n",
        "model.summary()"
      ],
      "metadata": {
        "id": "mSmqhac1G9Ja",
        "colab": {
          "base_uri": "https://localhost:8080/"
        },
        "outputId": "1205d3a0-40cc-4979-ac83-f4ac8ac7b7ac"
      },
      "execution_count": 81,
      "outputs": [
        {
          "output_type": "stream",
          "name": "stderr",
          "text": [
            "WARNING:tensorflow:`input_shape` is undefined or non-square, or `rows` is not in [96, 128, 160, 192, 224]. Weights for input shape (224, 224) will be loaded as the default.\n"
          ]
        },
        {
          "output_type": "stream",
          "name": "stdout",
          "text": [
            "Model: \"model_12\"\n",
            "_________________________________________________________________\n",
            " Layer (type)                Output Shape              Param #   \n",
            "=================================================================\n",
            " input_34 (InputLayer)       [(None, 300, 300, 3)]     0         \n",
            "                                                                 \n",
            " rescaling_16 (Rescaling)    (None, 300, 300, 3)       0         \n",
            "                                                                 \n",
            " mobilenetv2_1.00_224 (Func  (None, 10, 10, 1280)      2257984   \n",
            " tional)                                                         \n",
            "                                                                 \n",
            " conv2d_35 (Conv2D)          (None, 8, 8, 32)          368672    \n",
            "                                                                 \n",
            " activation_44 (Activation)  (None, 8, 8, 32)          0         \n",
            "                                                                 \n",
            " max_pooling2d_25 (MaxPooli  (None, 4, 4, 32)          0         \n",
            " ng2D)                                                           \n",
            "                                                                 \n",
            " conv2d_36 (Conv2D)          (None, 2, 2, 64)          18496     \n",
            "                                                                 \n",
            " activation_45 (Activation)  (None, 2, 2, 64)          0         \n",
            "                                                                 \n",
            " max_pooling2d_26 (MaxPooli  (None, 1, 1, 64)          0         \n",
            " ng2D)                                                           \n",
            "                                                                 \n",
            " flatten_12 (Flatten)        (None, 64)                0         \n",
            "                                                                 \n",
            " dense_24 (Dense)            (None, 64)                4160      \n",
            "                                                                 \n",
            " activation_46 (Activation)  (None, 64)                0         \n",
            "                                                                 \n",
            " dropout_12 (Dropout)        (None, 64)                0         \n",
            "                                                                 \n",
            " dense_25 (Dense)            (None, 1)                 65        \n",
            "                                                                 \n",
            " activation_47 (Activation)  (None, 1)                 0         \n",
            "                                                                 \n",
            "=================================================================\n",
            "Total params: 2649377 (10.11 MB)\n",
            "Trainable params: 391393 (1.49 MB)\n",
            "Non-trainable params: 2257984 (8.61 MB)\n",
            "_________________________________________________________________\n",
            "None\n"
          ]
        }
      ]
    },
    {
      "cell_type": "markdown",
      "source": [
        "Теперь собственно переходим к обучению модели.\n",
        "\n",
        "Делаем это блоками по 5 эпох, чтобы получать промежуточные результаты (сохраняем модель после каждого блока, на всякий случай)."
      ],
      "metadata": {
        "id": "roF2MHjIBUeW"
      }
    },
    {
      "cell_type": "code",
      "source": [
        "from keras.callbacks import TensorBoard\n",
        "from datetime import datetime\n",
        "\n",
        "EPOCHS = 10\n",
        "acc_history = []\n",
        "tensorboard_cbk = TensorBoard(log_dir='/logs/scalars/' + datetime.now().strftime(\"%Y%m%d-%H%M%S\"), update_freq='epoch')"
      ],
      "metadata": {
        "id": "Wg-2IXWlHpa3"
      },
      "execution_count": 82,
      "outputs": []
    },
    {
      "cell_type": "code",
      "source": [
        "train_history = model.fit(train_data, val_data, EPOCHS, [tensorboard_cbk])\n",
        "model.save(\"model1.h5\")\n",
        "acc_history.append(train_history.history['accuracy'])"
      ],
      "metadata": {
        "colab": {
          "base_uri": "https://localhost:8080/"
        },
        "id": "fEemmhW9Jd2f",
        "outputId": "a99fd7fa-1c6c-4026-becd-6acfdb20f14e"
      },
      "execution_count": 83,
      "outputs": [
        {
          "output_type": "stream",
          "name": "stdout",
          "text": [
            "Epoch 1/10\n",
            "30/30 [==============================] - 159s 5s/step - loss: 0.3783 - accuracy: 0.8750 - val_loss: 0.0239 - val_accuracy: 0.9917\n",
            "Epoch 2/10\n",
            "30/30 [==============================] - 145s 5s/step - loss: 0.0936 - accuracy: 0.9677 - val_loss: 0.0113 - val_accuracy: 1.0000\n",
            "Epoch 3/10\n",
            "30/30 [==============================] - 188s 6s/step - loss: 0.0415 - accuracy: 0.9854 - val_loss: 0.0240 - val_accuracy: 1.0000\n",
            "Epoch 4/10\n",
            "30/30 [==============================] - 149s 5s/step - loss: 0.0701 - accuracy: 0.9781 - val_loss: 0.0233 - val_accuracy: 0.9917\n",
            "Epoch 5/10\n",
            "30/30 [==============================] - 154s 5s/step - loss: 0.0294 - accuracy: 0.9875 - val_loss: 0.0118 - val_accuracy: 0.9917\n",
            "Epoch 6/10\n",
            "30/30 [==============================] - 165s 5s/step - loss: 0.0560 - accuracy: 0.9865 - val_loss: 0.0232 - val_accuracy: 0.9917\n",
            "Epoch 7/10\n",
            "30/30 [==============================] - 172s 6s/step - loss: 0.0264 - accuracy: 0.9917 - val_loss: 0.0112 - val_accuracy: 0.9917\n",
            "Epoch 8/10\n",
            "30/30 [==============================] - 153s 5s/step - loss: 0.0257 - accuracy: 0.9865 - val_loss: 0.0021 - val_accuracy: 1.0000\n",
            "Epoch 9/10\n",
            "30/30 [==============================] - 155s 5s/step - loss: 0.0036 - accuracy: 0.9990 - val_loss: 0.1460 - val_accuracy: 0.9583\n",
            "Epoch 10/10\n",
            "30/30 [==============================] - 154s 5s/step - loss: 0.0344 - accuracy: 0.9865 - val_loss: 3.2468e-04 - val_accuracy: 1.0000\n"
          ]
        },
        {
          "output_type": "stream",
          "name": "stderr",
          "text": [
            "/usr/local/lib/python3.10/dist-packages/keras/src/engine/training.py:3103: UserWarning: You are saving your model as an HDF5 file via `model.save()`. This file format is considered legacy. We recommend using instead the native Keras format, e.g. `model.save('my_model.keras')`.\n",
            "  saving_api.save_model(\n"
          ]
        }
      ]
    },
    {
      "cell_type": "code",
      "source": [
        "import matplotlib.pyplot as plt\n",
        "\n",
        "plt.plot(train_history.history['accuracy'])\n",
        "plt.title('Model Accuracy')\n",
        "plt.xlabel('Epoch num')\n",
        "plt.ylabel('Accuracy value')"
      ],
      "metadata": {
        "colab": {
          "base_uri": "https://localhost:8080/",
          "height": 489
        },
        "id": "zIIQGuFjE4qU",
        "outputId": "4c5c9a6f-e15f-4f0d-922c-b0a2065ec62f"
      },
      "execution_count": 88,
      "outputs": [
        {
          "output_type": "execute_result",
          "data": {
            "text/plain": [
              "Text(0, 0.5, 'Accuracy value')"
            ]
          },
          "metadata": {},
          "execution_count": 88
        },
        {
          "output_type": "display_data",
          "data": {
            "text/plain": [
              "<Figure size 640x480 with 1 Axes>"
            ],
            "image/png": "[encoded data removed]"
          },
          "metadata": {}
        }
      ]
    },
    {
      "cell_type": "code",
      "source": [
        "print(f'Test scores:\\n\\t')\n",
        "test_scores = model.evaluate(test_data)\n",
        "print(f'Val scores:\\n\\t')\n",
        "val_scores = model.evaluate(val_data)"
      ],
      "metadata": {
        "colab": {
          "base_uri": "https://localhost:8080/"
        },
        "id": "EV-hFuzB-bSX",
        "outputId": "f92dd90a-a80e-498e-ba6f-94bea47a256a"
      },
      "execution_count": 91,
      "outputs": [
        {
          "output_type": "stream",
          "name": "stdout",
          "text": [
            "Test scores:\n",
            "\t\n",
            "4/4 [==============================] - 15s 3s/step - loss: 5.2991e-04 - accuracy: 1.0000\n",
            "Val scores:\n",
            "\t\n",
            "4/4 [==============================] - 12s 3s/step - loss: 3.2468e-04 - accuracy: 1.0000\n"
          ]
        }
      ]
    },
    {
      "cell_type": "markdown",
      "source": [
        "Метрика точности равна 1 и для тестового и для валидационного множества. Выглядит удивительно."
      ],
      "metadata": {
        "id": "r9nexFChGrHW"
      }
    },
    {
      "cell_type": "code",
      "source": [
        "%rm -rf /content/data"
      ],
      "metadata": {
        "id": "WXD3PXPgFfmV"
      },
      "execution_count": 69,
      "outputs": []
    }
  ]
}